{
 "cells": [
  {
   "cell_type": "code",
   "execution_count": 1,
   "metadata": {},
   "outputs": [
    {
     "name": "stdout",
     "output_type": "stream",
     "text": [
      "Welcome to JupyROOT 6.17/01\n"
     ]
    }
   ],
   "source": [
    "import ROOT"
   ]
  },
  {
   "cell_type": "code",
   "execution_count": 2,
   "metadata": {},
   "outputs": [],
   "source": [
    "from PileUp_SF_config import *"
   ]
  },
  {
   "cell_type": "code",
   "execution_count": 3,
   "metadata": {},
   "outputs": [],
   "source": [
    "from ROOT import TFile, TH2F, TCanvas, TH1D, TH1F"
   ]
  },
  {
   "cell_type": "code",
   "execution_count": 4,
   "metadata": {},
   "outputs": [],
   "source": [
    "f  = TFile(PileUp_SFLow_path_Data)"
   ]
  },
  {
   "cell_type": "code",
   "execution_count": 5,
   "metadata": {
    "scrolled": true
   },
   "outputs": [
    {
     "name": "stdout",
     "output_type": "stream",
     "text": [
      "TFile**\t\t./DATA/MyDataPileupHistogram_23sepjsonfile_true692minus4p6_75bin.root\t\n",
      " TFile*\t\t./DATA/MyDataPileupHistogram_23sepjsonfile_true692minus4p6_75bin.root\t\n",
      "  KEY: TH1D\tpileup;1\tpileup\n"
     ]
    }
   ],
   "source": [
    "f.ls()"
   ]
  },
  {
   "cell_type": "code",
   "execution_count": 6,
   "metadata": {},
   "outputs": [],
   "source": [
    "h = TH1D()"
   ]
  },
  {
   "cell_type": "code",
   "execution_count": 7,
   "metadata": {},
   "outputs": [],
   "source": [
    "c = TCanvas(\"SF\",\"SF\",600,400)"
   ]
  },
  {
   "cell_type": "code",
   "execution_count": 8,
   "metadata": {},
   "outputs": [],
   "source": [
    "f.GetObject(\"pileup\",h)"
   ]
  },
  {
   "cell_type": "code",
   "execution_count": 9,
   "metadata": {},
   "outputs": [
    {
     "name": "stderr",
     "output_type": "stream",
     "text": [
      "Info in <TCanvas::Print>: pdf file PileUp_SFUp.pdf has been created\n"
     ]
    },
    {
     "data": {
      "image/png": "[encoded data removed]",
      "text/plain": [
       "<IPython.core.display.Image object>"
      ]
     },
     "metadata": {},
     "output_type": "display_data"
    }
   ],
   "source": [
    "h.Draw(\"colz\")\n",
    "c.Draw()\n",
    "c.SaveAs(\"PileUp_SFUp.pdf\")"
   ]
  },
  {
   "cell_type": "code",
   "execution_count": 10,
   "metadata": {},
   "outputs": [
    {
     "name": "stdout",
     "output_type": "stream",
     "text": [
      "# bins X = 75\n"
     ]
    }
   ],
   "source": [
    "#normalize histogram\n",
    "nx = h.GetNbinsX()\n",
    "print(\"# bins X = \"+str(nx))\n",
    "h.Scale(1.0/h.Integral())"
   ]
  },
  {
   "cell_type": "code",
   "execution_count": 11,
   "metadata": {},
   "outputs": [],
   "source": [
    "# Read text file (MC values)\n",
    "txt = open(PileUp_SF_path_MC)\n",
    "mc = str()\n",
    "for line in txt:\n",
    "    mc += line\n",
    "mc = mc.strip().split(\"=\")[1].split(\"{\")[1].split(\"}\")[0].split(\" ,\")\n",
    "mc = map(lambda x: float(x),mc)   "
   ]
  },
  {
   "cell_type": "code",
   "execution_count": 12,
   "metadata": {},
   "outputs": [],
   "source": [
    "# Scale histogram (to match MC with Data)\n",
    "for i in xrange(0,nx):\n",
    "    bin_index = i + 1\n",
    "    h.SetBinContent(bin_index,(1.0/mc[i])*h.GetBinContent(bin_index) )"
   ]
  },
  {
   "cell_type": "code",
   "execution_count": 14,
   "metadata": {},
   "outputs": [
    {
     "name": "stderr",
     "output_type": "stream",
     "text": [
      "Info in <TCanvas::Print>: pdf file PileUp_SFUp.pdf has been created\n"
     ]
    },
    {
     "data": {
      "image/png": "[encoded data removed]",
      "text/plain": [
       "<IPython.core.display.Image object>"
      ]
     },
     "metadata": {},
     "output_type": "display_data"
    }
   ],
   "source": [
    "h.Draw(\"colz\")\n",
    "c.Draw()\n",
    "c.SaveAs(\"PileUp_SFUp.pdf\")"
   ]
  },
  {
   "cell_type": "code",
   "execution_count": 15,
   "metadata": {},
   "outputs": [],
   "source": [
    "dotH_name = \"PileUp_SF\"+\"Up\"+\".h\"\n",
    "dotC_name = \"PileUp_SF\"+\"Up\"+\".C\"\n",
    "func_type = \"Double_t\"\n",
    "func_name = \"pileUp_SF\"+\"Up\"\n",
    "x_type = \"Int_t\"\n",
    "x_name = \"nTrueInt\""
   ]
  },
  {
   "cell_type": "code",
   "execution_count": 16,
   "metadata": {},
   "outputs": [
    {
     "name": "stdout",
     "output_type": "stream",
     "text": [
      "#ifndef PILEUP_SFUP_H_INCLUDED\n",
      "#define PILEUP_SFUP_H_INCLUDED\n",
      "\n",
      "Double_t pileUp_SFUp(Int_t ntrueint);\n",
      "\n",
      "#endif\n"
     ]
    }
   ],
   "source": [
    "dotH = str()\n",
    "\n",
    "dotH += \"#ifndef \"+dotH_name.upper().split(\".\")[0]+str(\"_H_INCLUDED\\n\")\n",
    "dotH += \"#define \"+dotH_name.upper().split(\".\")[0]+str(\"_H_INCLUDED\\n\")\n",
    "dotH += \"\\n\"\n",
    "dotH += func_type+\" \"+func_name+\"(\"+x_type+\" \"+x_name+\");\\n\"\n",
    "dotH += \"\\n\"\n",
    "dotH += \"#endif\"\n",
    "print(dotH)"
   ]
  },
  {
   "cell_type": "code",
   "execution_count": 17,
   "metadata": {},
   "outputs": [
    {
     "name": "stdout",
     "output_type": "stream",
     "text": [
      "#include \"PileUp_SFUp.h\"\n",
      "\n",
      "Double_t pileUp_SFUp(Int_t ntrueint){\n",
      "\tif( ntrueint == 0){\n",
      "\t\treturn\t0.379282949429;\n",
      "\t}\n",
      "\tif( ntrueint == 1){\n",
      "\t\treturn\t1.14126007299;\n",
      "\t}\n",
      "\tif( ntrueint == 2){\n",
      "\t\treturn\t1.25989998102;\n",
      "\t}\n",
      "\tif( ntrueint == 3){\n",
      "\t\treturn\t1.09894777201;\n",
      "\t}\n",
      "\tif( ntrueint == 4){\n",
      "\t\treturn\t1.25010849823;\n",
      "\t}\n",
      "\tif( ntrueint == 5){\n",
      "\t\treturn\t1.28088630183;\n",
      "\t}\n",
      "\tif( ntrueint == 6){\n",
      "\t\treturn\t0.920197849235;\n",
      "\t}\n",
      "\tif( ntrueint == 7){\n",
      "\t\treturn\t0.767802424551;\n",
      "\t}\n",
      "\tif( ntrueint == 8){\n",
      "\t\treturn\t1.09270088343;\n",
      "\t}\n",
      "\tif( ntrueint == 9){\n",
      "\t\treturn\t1.33758990757;\n",
      "\t}\n",
      "\tif( ntrueint == 10){\n",
      "\t\treturn\t1.48643531011;\n",
      "\t}\n",
      "\tif( ntrueint == 11){\n",
      "\t\treturn\t1.52843777815;\n",
      "\t}\n",
      "\tif( ntrueint == 12){\n",
      "\t\treturn\t1.49791860091;\n",
      "\t}\n",
      "\tif( ntrueint == 13){\n",
      "\t\treturn\t1.50104583587;\n",
      "\t}\n",
      "\tif( ntrueint == 14){\n",
      "\t\treturn\t1.49738515553;\n",
      "\t}\n",
      "\tif( ntrueint == 15){\n",
      "\t\treturn\t1.44377825397;\n",
      "\t}\n",
      "\tif( ntrueint == 16){\n",
      "\t\treturn\t1.36788039759;\n",
      "\t}\n",
      "\tif( ntrueint == 17){\n",
      "\t\treturn\t1.29897542453;\n",
      "\t}\n",
      "\tif( ntrueint == 18){\n",
      "\t\treturn\t1.22735703773;\n",
      "\t}\n",
      "\tif( ntrueint == 19){\n",
      "\t\treturn\t1.16571155397;\n",
      "\t}\n",
      "\tif( ntrueint == 20){\n",
      "\t\treturn\t1.12544479818;\n",
      "\t}\n",
      "\tif( ntrueint == 21){\n",
      "\t\treturn\t1.09059661201;\n",
      "\t}\n",
      "\tif( ntrueint == 22){\n",
      "\t\treturn\t1.06405719276;\n",
      "\t}\n",
      "\tif( ntrueint == 23){\n",
      "\t\treturn\t1.03995020616;\n",
      "\t}\n",
      "\tif( ntrueint == 24){\n",
      "\t\treturn\t1.01922706975;\n",
      "\t}\n",
      "\tif( ntrueint == 25){\n",
      "\t\treturn\t1.00601454307;\n",
      "\t}\n",
      "\tif( ntrueint == 26){\n",
      "\t\treturn\t0.996947051504;\n",
      "\t}\n",
      "\tif( ntrueint == 27){\n",
      "\t\treturn\t0.984851211312;\n",
      "\t}\n",
      "\tif( ntrueint == 28){\n",
      "\t\treturn\t0.972804590645;\n",
      "\t}\n",
      "\tif( ntrueint == 29){\n",
      "\t\treturn\t0.956508251623;\n",
      "\t}\n",
      "\tif( ntrueint == 30){\n",
      "\t\treturn\t0.914617069981;\n",
      "\t}\n",
      "\tif( ntrueint == 31){\n",
      "\t\treturn\t0.872170095593;\n",
      "\t}\n",
      "\tif( ntrueint == 32){\n",
      "\t\treturn\t0.807038047759;\n",
      "\t}\n",
      "\tif( ntrueint == 33){\n",
      "\t\treturn\t0.734189749456;\n",
      "\t}\n",
      "\tif( ntrueint == 34){\n",
      "\t\treturn\t0.65095201435;\n",
      "\t}\n",
      "\tif( ntrueint == 35){\n",
      "\t\treturn\t0.561322792504;\n",
      "\t}\n",
      "\tif( ntrueint == 36){\n",
      "\t\treturn\t0.466324645974;\n",
      "\t}\n",
      "\tif( ntrueint == 37){\n",
      "\t\treturn\t0.374493031655;\n",
      "\t}\n",
      "\tif( ntrueint == 38){\n",
      "\t\treturn\t0.288499690283;\n",
      "\t}\n",
      "\tif( ntrueint == 39){\n",
      "\t\treturn\t0.214468951298;\n",
      "\t}\n",
      "\tif( ntrueint == 40){\n",
      "\t\treturn\t0.149709961516;\n",
      "\t}\n",
      "\tif( ntrueint == 41){\n",
      "\t\treturn\t0.0998655493924;\n",
      "\t}\n",
      "\tif( ntrueint == 42){\n",
      "\t\treturn\t0.0643259869168;\n",
      "\t}\n",
      "\tif( ntrueint == 43){\n",
      "\t\treturn\t0.0395744009457;\n",
      "\t}\n",
      "\tif( ntrueint == 44){\n",
      "\t\treturn\t0.0238811313082;\n",
      "\t}\n",
      "\tif( ntrueint == 45){\n",
      "\t\treturn\t0.0138158218008;\n",
      "\t}\n",
      "\tif( ntrueint == 46){\n",
      "\t\treturn\t0.00756297385265;\n",
      "\t}\n",
      "\tif( ntrueint == 47){\n",
      "\t\treturn\t0.00415368348296;\n",
      "\t}\n",
      "\tif( ntrueint == 48){\n",
      "\t\treturn\t0.00221423303132;\n",
      "\t}\n",
      "\tif( ntrueint == 49){\n",
      "\t\treturn\t0.00118608790507;\n",
      "\t}\n",
      "\tif( ntrueint == 50){\n",
      "\t\treturn\t0.000642370178389;\n",
      "\t}\n",
      "\tif( ntrueint == 51){\n",
      "\t\treturn\t0.000383878490654;\n",
      "\t}\n",
      "\tif( ntrueint == 52){\n",
      "\t\treturn\t0.000272743636907;\n",
      "\t}\n",
      "\tif( ntrueint == 53){\n",
      "\t\treturn\t0.000243308393416;\n",
      "\t}\n",
      "\tif( ntrueint == 54){\n",
      "\t\treturn\t0.000289619493622;\n",
      "\t}\n",
      "\tif( ntrueint == 55){\n",
      "\t\treturn\t0.000395764911108;\n",
      "\t}\n",
      "\tif( ntrueint == 56){\n",
      "\t\treturn\t0.000543935071299;\n",
      "\t}\n",
      "\tif( ntrueint == 57){\n",
      "\t\treturn\t0.000782770412441;\n",
      "\t}\n",
      "\tif( ntrueint == 58){\n",
      "\t\treturn\t0.0011513089289;\n",
      "\t}\n",
      "\tif( ntrueint == 59){\n",
      "\t\treturn\t0.00160394600372;\n",
      "\t}\n",
      "\tif( ntrueint == 60){\n",
      "\t\treturn\t0.00256794687294;\n",
      "\t}\n",
      "\tif( ntrueint == 61){\n",
      "\t\treturn\t0.00333984487883;\n",
      "\t}\n",
      "\tif( ntrueint == 62){\n",
      "\t\treturn\t0.0038796338267;\n",
      "\t}\n",
      "\tif( ntrueint == 63){\n",
      "\t\treturn\t0.00407865570401;\n",
      "\t}\n",
      "\tif( ntrueint == 64){\n",
      "\t\treturn\t0.00437281548667;\n",
      "\t}\n",
      "\tif( ntrueint == 65){\n",
      "\t\treturn\t0.00405746171677;\n",
      "\t}\n",
      "\tif( ntrueint == 66){\n",
      "\t\treturn\t0.00357862556944;\n",
      "\t}\n",
      "\tif( ntrueint == 67){\n",
      "\t\treturn\t0.00306766102316;\n",
      "\t}\n",
      "\tif( ntrueint == 68){\n",
      "\t\treturn\t0.00271120677962;\n",
      "\t}\n",
      "\tif( ntrueint == 69){\n",
      "\t\treturn\t0.00232704421132;\n",
      "\t}\n",
      "\tif( ntrueint == 70){\n",
      "\t\treturn\t0.00197743738331;\n",
      "\t}\n",
      "\tif( ntrueint == 71){\n",
      "\t\treturn\t0.00166693842307;\n",
      "\t}\n",
      "\tif( ntrueint == 72){\n",
      "\t\treturn\t0.00139668147314;\n",
      "\t}\n",
      "\tif( ntrueint == 73){\n",
      "\t\treturn\t0.0011719022398;\n",
      "\t}\n",
      "\tif( ntrueint == 74){\n",
      "\t\treturn\t0.000964764594913;\n",
      "\t}\n",
      "\n",
      "\telse cout<<\"ERROR: UNEXPECTED behavior in one of pileUp_SF... function\"<<endl;\n",
      "\tif( ntrueint > 74 || ntrueint < 0){\n",
      "\t\tcout<<\"Error: Wrong number of ntrueint(pileUp)\"<<endl;\n",
      "\t\texit(1);\n",
      "\t}\n",
      "\n",
      "\treturn\t1000000;\n",
      "}\n"
     ]
    }
   ],
   "source": [
    "dotC = str()\n",
    "\n",
    "dotC += \"#include \\\"\"+dotH_name+\"\\\"\\n\\n\"\n",
    "dotC += func_type+\" \"+func_name+\"(\"+x_type+\" \"+x_name+\"){\\n\"\n",
    "for i in xrange(0,nx):\n",
    "    bin_index = i+1\n",
    "    dotC += \"\\tif( \"+x_name+\" == \"+str(i)+\"){\\n\"\n",
    "    dotC += \"\\t\\treturn\\t\"+str(h.GetBinContent(bin_index))+\";\\n\"\n",
    "    dotC += \"\\t}\\n\"\n",
    "dotC += \"\\n\\telse cout<<\\\"ERROR: UNEXPECTED behavior in one of pileUp_SF... function\\\"<<endl;\\n\"\n",
    "dotC += \"\\tif( \"+x_name+\" > 74 || \"+x_name+\" < 0){\\n\"\n",
    "dotC += \"\\t\\tcout<<\\\"Error: Wrong number of nTrueInt(pileUp)\\\"<<endl;\\n\"\n",
    "dotC += \"\\t\\texit(1);\\n\"\n",
    "dotC += \"\\t}\\n\"\n",
    "dotC += \"\\n\\treturn\\t1000000;\\n\"\n",
    "dotC+=\"}\""
   ]
  },
  {
   "cell_type": "code",
   "execution_count": 18,
   "metadata": {},
   "outputs": [],
   "source": [
    "def write_code(name,s):\n",
    "    code_file = file(name,\"w\")\n",
    "    code_file.write(s)\n",
    "    code_file.close()\n",
    "    \n",
    "write_code(dotH_name,dotH)\n",
    "write_code(dotC_name,dotC)"
   ]
  }
 ],
 "metadata": {
  "kernelspec": {
   "display_name": "Python 2",
   "language": "python",
   "name": "python2"
  },
  "language_info": {
   "codemirror_mode": {
    "name": "ipython",
    "version": 2
   },
   "file_extension": ".py",
   "mimetype": "text/x-python",
   "name": "python",
   "nbconvert_exporter": "python",
   "pygments_lexer": "ipython2",
   "version": "2.7.15"
  }
 },
 "nbformat": 4,
 "nbformat_minor": 2
}
