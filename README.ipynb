{
 "cells": [
  {
   "cell_type": "markdown",
   "metadata": {},
   "source": [
    "# Single top + photon in SM\n",
    "\n",
    "### Vision and mission\n",
    "**Goal**: study SM process: single top + photon, with special interest on tt&gamma; coupling   \n",
    "- **sub-Goal (1)**: __*muon*__ channel for top decay using 2017 and 2018 data  ( **Javad** will do this for now)\n",
    "- **sub-Goal (2)**: combine 2017 and 2018 results with 2016\n",
    "- **sub-Goal (3)**: __*electron*__ channel for top decay (**Ali** or **Saleh** might join for this part, which has its own new challenges)\n",
    "- **sub-Goal (4)**: go from SM to EFT (constrain wilson coefficients)\n",
    "_________"
   ]
  },
  {
   "cell_type": "markdown",
   "metadata": {},
   "source": [
    "### History and motivation\n",
    "**Process**: $p p \\rightarrow q t \\gamma$, where $q$ is a light-jet (not a $b$ quark)   \n",
    "            top quark decays leptonically $t \\rightarrow W(\\rightarrow l \\nu_l) b $    \n",
    "\n",
    "\n",
    "Mojtaba and Mohsen have studied the muonic channel using 2016 data (MC SUMMER 16).   \n",
    "Javad will analyze 2017 (Fall 17) and 2018 data for the same process which is very similar to 2016.    \n",
    "The electronic channel is completely different from muonic channel and has new challenges."
   ]
  },
  {
   "cell_type": "markdown",
   "metadata": {},
   "source": [
    "### Reading data\n",
    "\n",
    "To read 2017 and 2018 data, we will use **CMg** package from **ttH** group.\n",
    "- step 1: modify some parts of **CMg** package for our purpose (for photon)\n",
    "- step 2: use **CMg** to bring data to **IPM** or **CERN** computers\n",
    "\n",
    "Estimated time for getting data: **~2 months**."
   ]
  },
  {
   "cell_type": "markdown",
   "metadata": {},
   "source": [
    "## Jet lepton(photon) cleaning\n",
    "\n",
    "In data analysis the information of **ECAL** and **HCAL** are analyzed together. That information is call **CaloTower** information.\n",
    "A lepton or photon which was reconstructed as lepton or photon also appears as a jet in jet collection. The offline trigger which creates jet collection does not seperate these objects from jet collection.\n",
    "Thus we need to find **actual jet collection** by **cleaning** the jet collection from leptons and photons.\n",
    "\n",
    "If the $\\Delta R (j,\\ell) < 0.15 $ or $\\Delta R (j,\\gamma) < 0.15$, then that jet should be cleaned up from jet collection. Because almost exactly that is a lepton or photon which is reconstructed by jet collection system is a jet.\n"
   ]
  },
  {
   "cell_type": "code",
   "execution_count": null,
   "metadata": {},
   "outputs": [],
   "source": []
  }
 ],
 "metadata": {
  "kernelspec": {
   "display_name": "Python 2",
   "language": "python",
   "name": "python2"
  },
  "language_info": {
   "codemirror_mode": {
    "name": "ipython",
    "version": 2
   },
   "file_extension": ".py",
   "mimetype": "text/x-python",
   "name": "python",
   "nbconvert_exporter": "python",
   "pygments_lexer": "ipython2",
   "version": "2.7.15"
  }
 },
 "nbformat": 4,
 "nbformat_minor": 2
}
