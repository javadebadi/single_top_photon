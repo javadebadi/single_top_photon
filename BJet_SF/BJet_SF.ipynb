{
 "cells": [
  {
   "cell_type": "code",
   "execution_count": null,
   "metadata": {},
   "outputs": [],
   "source": [
    "import numpy as np\n",
    "import pandas as pd\n",
    "from BJet_SF_config import *"
   ]
  },
  {
   "cell_type": "code",
   "execution_count": null,
   "metadata": {},
   "outputs": [],
   "source": [
    "df = pd.read_csv(BJet_SF_path)"
   ]
  },
  {
   "cell_type": "code",
   "execution_count": null,
   "metadata": {},
   "outputs": [],
   "source": [
    "print(\"=========== Read BJet SF ============\")\n",
    "print(\"------> Input: \"+str(BJet_SF_path)+\" ------\")\n",
    "print(df.head(1))\n",
    "print(\"=========== remove whitespaces form columns names ==========\")\n",
    "# remove whitespace from columns name of the csv  file\n",
    "new_cols = []\n",
    "for col in df.columns:\n",
    "    new_cols.append(col.strip())\n",
    "\n",
    "df.columns = new_cols\n",
    "del new_cols\n",
    "print(\"============ Iterating over DataFrame ============\")"
   ]
  },
  {
   "cell_type": "code",
   "execution_count": null,
   "metadata": {},
   "outputs": [],
   "source": [
    "dotH_name = \"BJet_SF.h\"\n",
    "dotC_name = \"BJet_SF.C\"\n",
    "func_name = \"bJet_SF\"\n",
    "func_name_Low = func_name+\"Low\"\n",
    "func_name_Up  = func_name+\"Up\"\n",
    "func_type = \"Double_t\"\n",
    "func_sysType = \"central\"\n",
    "func_sysType_Low = \"down\"\n",
    "func_sysType_Up = \"up\"\n",
    "func_dic={func_sysType_Low:func_name_Low, func_sysType:func_name, func_sysType_Up:func_name_Up}\n",
    "func_measurementTypes = [\"comb\",\"incl\"]\n",
    "type_x = \"Double_t\"\n",
    "name_x = \"eta\"\n",
    "type_y = \"Double_t\"\n",
    "name_y = \"pt\"\n",
    "type_z = \"Int_t\"\n",
    "name_z = \"jetFalvor\"\n",
    "type_w = \"TString\"\n",
    "name_w = \"OperatingPoint\""
   ]
  },
  {
   "cell_type": "code",
   "execution_count": null,
   "metadata": {},
   "outputs": [],
   "source": [
    "dotH = str()\n",
    "\n",
    "dotH += \"#ifndef \"+dotH_name.upper().split(\".\")[0]+str(\"_H_INCLUDED\\n\")\n",
    "dotH += \"#define \"+dotH_name.upper().split(\".\")[0]+str(\"_H_INCLUDED\\n\")\n",
    "dotH += \"\\n\"\n",
    "dotH += func_type+\" \"+func_name+\"(\"+type_x+\" \"+name_x+\", \"+type_y+\" \"+name_y+\", \"+type_z+\" \"+name_z+\", \"+type_w+\" \"+name_w+\");\\n\"\n",
    "dotH += func_type+\" \"+func_name_Low+\"(\"+type_x+\" \"+name_x+\", \"+type_y+\" \"+name_y+\", \"+type_z+\" \"+name_z+\", \"+type_w+\" \"+name_w+\");\\n\"\n",
    "dotH += func_type+\" \"+func_name_Up+\"(\"+type_x+\" \"+name_x+\", \"+type_y+\" \"+name_y+\", \"+type_z+\" \"+name_z+\", \"+type_w+\" \"+name_w+\");\\n\"\n",
    "dotH += \"\\n\"\n",
    "dotH += \"#endif\"\n",
    "print(dotH)"
   ]
  },
  {
   "cell_type": "code",
   "execution_count": null,
   "metadata": {},
   "outputs": [],
   "source": [
    "ptMax_max = df[df[\"measurementType\"].apply(str.strip)==\"incl\"][\"ptMax\"].max()"
   ]
  },
  {
   "cell_type": "code",
   "execution_count": null,
   "metadata": {},
   "outputs": [],
   "source": [
    "def dotC_for_sysType(func_sysType):\n",
    "    dotC = str()\n",
    "    assert(type(func_sysType)==str)\n",
    "    func_name = func_dic[func_sysType]\n",
    "    dotC += func_type+\" \"+func_name+\"(\"+type_x+\" \"+name_x+\", \"+type_y+\" \"+name_y+\", \"+type_z+\" \"+name_z+\", \"+type_w+\" \"+name_w+\"){\\n\"\n",
    "    dotC += \"\\tDouble_t &x = pt;\\n\"\n",
    "    dotC += \"\\tInt_t op = 0;\\n\"\n",
    "    dotC += \"\"\"\\tif(OperatingPoint == \"tight\") op=2;\\n\"\"\"\n",
    "    dotC += \"\"\"\\telse if(OperatingPoint == \"loose\") op=0;\\n\"\"\"\n",
    "    dotC += \"\"\"\\telse if(OperatingPoint == \"medium\") op=1;\\n\"\"\"\n",
    "    dotC += \"\"\"\\telse {\n",
    "    \\t\\tcout<<\"Error: the discriminator of BJet is not specified correctly: it should be one of (loose,tight,medium). The error is raised from one of BJet_SF functions\"<<endl;\n",
    "    \\t\\texit(1);\n",
    "    \\t}\n",
    "\n",
    "    \\n\"\"\"\n",
    "\n",
    "    for index, row in df.iterrows():\n",
    "        if row[\"sysType\"].strip() != func_sysType or not(row[\"measurementType\"].strip() in func_measurementTypes):\n",
    "            continue\n",
    "\n",
    "        low_y = str(row[\"ptMin\"])\n",
    "        up_y  = str(row[\"ptMax\"])\n",
    "        # this line is kind of extraploation which needs to be taken care for new csv inputs\n",
    "        if(row[\"ptMax\"] == 1000):\n",
    "            up_y = str(10000)\n",
    "\n",
    "        dotC += \"\\tif(\"+name_y+\" > \"+low_y+\" && \" + name_y+\" <= \"+up_y\n",
    "        dotC += \" && \"+ name_z + \" == \"+str(row[\"jetFlavor\"])\n",
    "        dotC += \" && \"+ \"op\" + \" == \"+str(row[\"OperatingPoint\"])\n",
    "        dotC += \"){\\n\"\n",
    "        dotC += \"\\t\\treturn\\t\"+row[\"formula\"].strip()+\";\\n\"\n",
    "        dotC += \"\\t}\\n\"\n",
    "    dotC += \"\\telse\\treturn\\t1;\"\n",
    "    dotC += \"}\\n\\n\"\n",
    "    return dotC"
   ]
  },
  {
   "cell_type": "code",
   "execution_count": null,
   "metadata": {},
   "outputs": [],
   "source": [
    "dotC = str()\n",
    "dotC += \"#include \\\"\"+dotH_name+\"\\\"\\n\"\n",
    "dotC += dotC_for_sysType(func_sysType)\n",
    "dotC += dotC_for_sysType(func_sysType_Low)\n",
    "dotC += dotC_for_sysType(func_sysType_Up)"
   ]
  },
  {
   "cell_type": "code",
   "execution_count": null,
   "metadata": {},
   "outputs": [],
   "source": [
    "def write_code(name,s):\n",
    "    code_file = file(name,\"w\")\n",
    "    code_file.write(s)\n",
    "    code_file.close()\n",
    "    \n",
    "write_code(dotH_name,dotH)\n",
    "write_code(dotC_name,dotC)"
   ]
  }
 ],
 "metadata": {
  "kernelspec": {
   "display_name": "Python 2",
   "language": "python",
   "name": "python2"
  },
  "language_info": {
   "codemirror_mode": {
    "name": "ipython",
    "version": 2
   },
   "file_extension": ".py",
   "mimetype": "text/x-python",
   "name": "python",
   "nbconvert_exporter": "python",
   "pygments_lexer": "ipython2",
   "version": "2.7.15"
  }
 },
 "nbformat": 4,
 "nbformat_minor": 2
}
