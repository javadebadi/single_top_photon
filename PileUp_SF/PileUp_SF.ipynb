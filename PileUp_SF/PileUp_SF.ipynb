{
 "cells": [
  {
   "cell_type": "code",
   "execution_count": 15,
   "metadata": {},
   "outputs": [],
   "source": [
    "import ROOT"
   ]
  },
  {
   "cell_type": "code",
   "execution_count": 16,
   "metadata": {},
   "outputs": [],
   "source": [
    "from PileUp_SF_config import *"
   ]
  },
  {
   "cell_type": "code",
   "execution_count": 17,
   "metadata": {},
   "outputs": [],
   "source": [
    "from ROOT import TFile, TH2F, TCanvas, TH1D, TH1F"
   ]
  },
  {
   "cell_type": "code",
   "execution_count": 18,
   "metadata": {},
   "outputs": [],
   "source": [
    "f  = TFile(PileUp_SF_path_Data)"
   ]
  },
  {
   "cell_type": "code",
   "execution_count": 19,
   "metadata": {},
   "outputs": [
    {
     "name": "stdout",
     "output_type": "stream",
     "text": [
      "TFile**\t\t./DATA/MyDataPileupHistogram_23sepjsonfile_true692_75bin.root\t\n",
      " TFile*\t\t./DATA/MyDataPileupHistogram_23sepjsonfile_true692_75bin.root\t\n",
      "  KEY: TH1D\tpileup;1\tpileup\n"
     ]
    }
   ],
   "source": [
    "f.ls()"
   ]
  },
  {
   "cell_type": "code",
   "execution_count": 20,
   "metadata": {},
   "outputs": [],
   "source": [
    "h = TH1D()"
   ]
  },
  {
   "cell_type": "code",
   "execution_count": 21,
   "metadata": {},
   "outputs": [
    {
     "name": "stderr",
     "output_type": "stream",
     "text": [
      "Warning in <TCanvas::Constructor>: Deleting canvas with same name: SF\n"
     ]
    }
   ],
   "source": [
    "c = TCanvas(\"SF\",\"SF\",600,400)"
   ]
  },
  {
   "cell_type": "code",
   "execution_count": 22,
   "metadata": {},
   "outputs": [],
   "source": [
    "f.GetObject(\"pileup\",h)"
   ]
  },
  {
   "cell_type": "code",
   "execution_count": 23,
   "metadata": {},
   "outputs": [
    {
     "name": "stderr",
     "output_type": "stream",
     "text": [
      "Info in <TCanvas::Print>: pdf file PileUp_SF.pdf has been created\n"
     ]
    },
    {
     "data": {
      "image/png": "[encoded data removed]",
      "text/plain": [
       "<IPython.core.display.Image object>"
      ]
     },
     "metadata": {},
     "output_type": "display_data"
    }
   ],
   "source": [
    "h.Draw(\"colz\")\n",
    "c.Draw()\n",
    "c.SaveAs(\"PileUp_SF.pdf\")"
   ]
  },
  {
   "cell_type": "code",
   "execution_count": 24,
   "metadata": {},
   "outputs": [
    {
     "name": "stdout",
     "output_type": "stream",
     "text": [
      "# bins X = 75\n"
     ]
    }
   ],
   "source": [
    "#normalize histogram\n",
    "nx = h.GetNbinsX()\n",
    "print(\"# bins X = \"+str(nx))\n",
    "h.Scale(1.0/h.Integral())"
   ]
  },
  {
   "cell_type": "code",
   "execution_count": 30,
   "metadata": {},
   "outputs": [],
   "source": [
    "# Read text file (MC values)\n",
    "txt = open(PileUp_SF_path_MC)\n",
    "mc = str()\n",
    "for line in txt:\n",
    "    mc += line\n",
    "mc = mc.strip().split(\"=\")[1].split(\"{\")[1].split(\"}\")[0].split(\" ,\")\n",
    "mc = map(lambda x: float(x),mc)"
   ]
  },
  {
   "cell_type": "code",
   "execution_count": 26,
   "metadata": {},
   "outputs": [],
   "source": [
    "# Scale histogram (to match MC with Data)\n",
    "for i in xrange(0,nx):\n",
    "    bin_index = i + 1\n",
    "    h.SetBinContent(bin_index,(1.0/mc[i])*h.GetBinContent(bin_index) )"
   ]
  },
  {
   "cell_type": "code",
   "execution_count": 27,
   "metadata": {},
   "outputs": [
    {
     "name": "stderr",
     "output_type": "stream",
     "text": [
      "Info in <TCanvas::Print>: pdf file PileUp_SF.pdf has been created\n"
     ]
    },
    {
     "data": {
      "image/png": "[encoded data removed]",
      "text/plain": [
       "<IPython.core.display.Image object>"
      ]
     },
     "metadata": {},
     "output_type": "display_data"
    }
   ],
   "source": [
    "h.Draw(\"colz\")\n",
    "c.Draw()\n",
    "c.SaveAs(\"PileUp_SF.pdf\")"
   ]
  },
  {
   "cell_type": "code",
   "execution_count": null,
   "metadata": {},
   "outputs": [],
   "source": [
    "dotH_name = \"PileUp_SF.h\"\n",
    "dotC_name = \"PileUp_SF.C\"\n",
    "func_type = \"Double_t\"\n",
    "func_name = \"pileUp_SF\"\n",
    "x_type = \"Int_t\"\n",
    "x_name = \"nTrueInt\""
   ]
  },
  {
   "cell_type": "code",
   "execution_count": null,
   "metadata": {},
   "outputs": [],
   "source": [
    "dotH = str()\n",
    "\n",
    "dotH += \"#ifndef \"+dotH_name.upper().split(\".\")[0]+str(\"_H_INCLUDED\\n\")\n",
    "dotH += \"#define \"+dotH_name.upper().split(\".\")[0]+str(\"_H_INCLUDED\\n\")\n",
    "dotH += \"\\n\"\n",
    "dotH += func_type+\" \"+func_name+\"(\"+x_type+\" \"+x_name+\");\\n\"\n",
    "dotH += \"\\n\"\n",
    "dotH += \"#endif\"\n",
    "print(dotH)"
   ]
  },
  {
   "cell_type": "code",
   "execution_count": null,
   "metadata": {},
   "outputs": [],
   "source": [
    "dotC = str()\n",
    "\n",
    "dotC += \"#include \\\"\"+dotH_name+\"\\\"\\n\\n\"\n",
    "dotC += func_type+\" \"+func_name+\"(\"+x_type+\" \"+x_name+\"){\\n\"\n",
    "for i in xrange(0,nx):\n",
    "    bin_index = i+1\n",
    "    dotC += \"\\tif( \"+x_name+\" == \"+str(i)+\"){\\n\"\n",
    "    dotC += \"\\t\\treturn\\t\"+str(h.GetBinContent(bin_index))+\";\\n\"\n",
    "    dotC += \"\\t}\\n\"\n",
    "dotC += \"\\n\\telse cout<<\\\"ERROR: UNEXPECTED behavior in one of pileUp_SF... function\\\"<<endl;\\n\"\n",
    "dotC += \"\\tif( \"+x_name+\" > 74 || \"+x_name+\" < 0){\\n\"\n",
    "dotC += \"\\t\\tcout<<\\\"Error: Wrong number of nTrueInt(pileUp)\\\"<<endl;\\n\"\n",
    "dotC += \"\\t\\texit(1);\\n\"\n",
    "dotC += \"\\t}\\n\"\n",
    "dotC += \"\\n\\treturn\\t1000000;\\n\"\n",
    "dotC+=\"}\""
   ]
  },
  {
   "cell_type": "code",
   "execution_count": null,
   "metadata": {},
   "outputs": [],
   "source": [
    "def write_code(name,s):\n",
    "    code_file = file(name,\"w\")\n",
    "    code_file.write(s)\n",
    "    code_file.close()\n",
    "    \n",
    "write_code(dotH_name,dotH)\n",
    "write_code(dotC_name,dotC)"
   ]
  }
 ],
 "metadata": {
  "kernelspec": {
   "display_name": "Python 2",
   "language": "python",
   "name": "python2"
  },
  "language_info": {
   "codemirror_mode": {
    "name": "ipython",
    "version": 2
   },
   "file_extension": ".py",
   "mimetype": "text/x-python",
   "name": "python",
   "nbconvert_exporter": "python",
   "pygments_lexer": "ipython2",
   "version": "2.7.15"
  }
 },
 "nbformat": 4,
 "nbformat_minor": 2
}
