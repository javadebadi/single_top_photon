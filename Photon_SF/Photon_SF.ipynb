{
 "cells": [
  {
   "cell_type": "code",
   "execution_count": null,
   "metadata": {},
   "outputs": [],
   "source": [
    "import ROOT"
   ]
  },
  {
   "cell_type": "code",
   "execution_count": null,
   "metadata": {},
   "outputs": [],
   "source": [
    "from Photon_SF_config import *"
   ]
  },
  {
   "cell_type": "code",
   "execution_count": null,
   "metadata": {},
   "outputs": [],
   "source": [
    "from ROOT import TFile, TH2F, TCanvas"
   ]
  },
  {
   "cell_type": "code",
   "execution_count": null,
   "metadata": {},
   "outputs": [],
   "source": [
    "f  = TFile(Photon_SF_path)"
   ]
  },
  {
   "cell_type": "code",
   "execution_count": null,
   "metadata": {},
   "outputs": [],
   "source": [
    "f.ls()"
   ]
  },
  {
   "cell_type": "code",
   "execution_count": null,
   "metadata": {},
   "outputs": [],
   "source": [
    "h = TH2F()"
   ]
  },
  {
   "cell_type": "code",
   "execution_count": null,
   "metadata": {},
   "outputs": [],
   "source": [
    "c = TCanvas(\"SF\",\"SF\",800,800)"
   ]
  },
  {
   "cell_type": "code",
   "execution_count": null,
   "metadata": {},
   "outputs": [],
   "source": [
    "f.GetObject(\"EGamma_SF2D\",h)"
   ]
  },
  {
   "cell_type": "code",
   "execution_count": null,
   "metadata": {},
   "outputs": [],
   "source": [
    "h.Draw(\"colzText\")\n",
    "c.Draw()\n",
    "c.SaveAs(\"Photon_SF.pdf\")"
   ]
  },
  {
   "cell_type": "code",
   "execution_count": null,
   "metadata": {},
   "outputs": [],
   "source": [
    "nx = h.GetNbinsX()\n",
    "ny = h.GetNbinsY()\n",
    "print(\"# bins X = \"+str(nx))\n",
    "print(\"# bins X = \"+str(ny))"
   ]
  },
  {
   "cell_type": "code",
   "execution_count": null,
   "metadata": {},
   "outputs": [],
   "source": [
    "def find_edges(h,x,y):\n",
    "    lowedge_x = h.GetXaxis().GetBinLowEdge(x)\n",
    "    upedge_x  = h.GetXaxis().GetBinUpEdge(x)\n",
    "    lowedge_y = h.GetYaxis().GetBinLowEdge(y)\n",
    "    upedge_y  = h.GetYaxis().GetBinUpEdge(y)\n",
    "    return str(lowedge_x), str(upedge_x), str(lowedge_y), str(upedge_y)"
   ]
  },
  {
   "cell_type": "code",
   "execution_count": null,
   "metadata": {},
   "outputs": [],
   "source": [
    "def if_with_two_similar_and(n_tabs=1, low=-1000, up = 1000, value=str(100), name=\"eta\"):\n",
    "    '''\n",
    "    n_tabs : number of default tabs\n",
    "    low    : the lower limit of condition\n",
    "    up     : the upper limit of condition \n",
    "    value  : the return value of if statement\n",
    "    \n",
    "    '''\n",
    "    tabs = str()\n",
    "    s    = str()\n",
    "    and_s = \" && \"\n",
    "    if_s  = \"if( \"\n",
    "    if_ends = \"){\\n\"\n",
    "    return_s = \"return\\t\"\n",
    "    block_end = \"}\"\n",
    "    \n",
    "    for i in xrange(0,n_tabs):\n",
    "        tabs += \"\\t\"\n",
    "        \n",
    "    s += tabs+if_s+name+\" > \"+low+and_s+name+\" <= \"+up+if_ends\n",
    "    s += tabs+\"\\t\"+return_s+value+\";\\n\"\n",
    "    s += tabs+block_end+\"\\n\"        \n",
    "    return s"
   ]
  },
  {
   "cell_type": "code",
   "execution_count": null,
   "metadata": {},
   "outputs": [],
   "source": [
    "dotH_name = \"Photon_SF.h\"\n",
    "dotC_name = \"Photon_SF.C\"\n",
    "func_type = \"Double_t\"\n",
    "func_name = \"photon_SF\"\n",
    "x_type = \"Double_t\"\n",
    "y_type = \"Double_t\"\n",
    "x_name = \"eta\"\n",
    "y_name = \"pt\""
   ]
  },
  {
   "cell_type": "code",
   "execution_count": null,
   "metadata": {},
   "outputs": [],
   "source": [
    "dotH = str()\n",
    "\n",
    "dotH += \"#ifndef \"+dotH_name.upper().split(\".\")[0]+str(\"_H_INCLUDED\\n\")\n",
    "dotH += \"#define \"+dotH_name.upper().split(\".\")[0]+str(\"_H_INCLUDED\\n\")\n",
    "dotH += \"\\n\"\n",
    "dotH += func_type+\" \"+func_name+\"(\"+x_type+\" \"+x_name+\", \"+y_type+\" \"+y_name+\");\\n\"\n",
    "dotH += \"\\n\"\n",
    "dotH += \"#endif\"\n",
    "print(dotH)"
   ]
  },
  {
   "cell_type": "code",
   "execution_count": 15,
   "metadata": {},
   "outputs": [],
   "source": [
    "dotC = str()\n",
    "\n",
    "dotC += \"#include \\\"\"+dotH_name+\"\\\"\\n\\n\"\n",
    "dotC += \"Double_t photon_SF(Double_t eta, Double_t pt){\\n\"\n",
    "for x in xrange(1,nx+1):\n",
    "    for y in xrange(1,ny+1):\n",
    "        lowedge_x, upedge_x, lowedge_y, upedge_y = find_edges(h,x,y)\n",
    "        central = h.GetBinContent(x,y)\n",
    "        dotC += \"\\tif( \"\n",
    "        dotC +=  x_name+\" > \"+lowedge_x+\" && \"+x_name+\" <= \"+upedge_x\n",
    "        dotC += \" && \"\n",
    "        dotC +=  y_name+\" > \"+lowedge_y+\" && \"+y_name+\" <= \"+upedge_y\n",
    "        dotC += \" ){\"+\"\\n\"\n",
    "        dotC += \"\\t\\treturn\\t\"+str(central)+\";\\n\"\n",
    "        dotC += \"\\t}\"+\"\\n\"\n",
    "        \n",
    "##################\n",
    "##################\n",
    "current_bin = 1\n",
    "lowedge_x, upedge_x, lowedge_y, upedge_y = find_edges(h,current_bin,1)\n",
    "dotC += \"\\tif( \"+x_name+\" <= \"+lowedge_x+\"){\\n\"\n",
    "for y in xrange(1,ny+1):\n",
    "    lowedge_x, upedge_x, lowedge_y, upedge_y = find_edges(h,current_bin,y)\n",
    "    central = h.GetBinContent(current_bin,y)\n",
    "    dotC += if_with_two_similar_and(n_tabs=2, low=lowedge_y, up=upedge_y, value=str(central),name=y_name)\n",
    "dotC +=  \"\\t}\\n\"\n",
    "   \n",
    "current_bin = nx \n",
    "lowedge_x, upedge_x, lowedge_y, upedge_y = find_edges(h,current_bin,1)\n",
    "dotC += \"\\tif( \"+x_name+\" > \"+upedge_x+\"){\\n\"\n",
    "for y in xrange(1,ny+1):\n",
    "    lowedge_x, upedge_x, lowedge_y, upedge_y = find_edges(h,current_bin,y)\n",
    "    central = h.GetBinContent(current_bin,y)\n",
    "    dotC += if_with_two_similar_and(n_tabs=2, low=lowedge_y, up=upedge_y, value=str(central),name=x_name)   \n",
    "dotC +=  \"\\t}\\n\"\n",
    "\n",
    "current_bin = 1\n",
    "lowedge_x, upedge_x, lowedge_y, upedge_y = find_edges(h,1,current_bin)\n",
    "dotC += \"\\tif( \"+y_name+\" <= \"+lowedge_y+\"){\\n\"\n",
    "for x in xrange(1,nx+1):\n",
    "    lowedge_x, upedge_x, lowedge_y, upedge_y = find_edges(h,x,current_bin)\n",
    "    central = h.GetBinContent(x,current_bin)\n",
    "    dotC += if_with_two_similar_and(n_tabs=2, low=lowedge_x, up=upedge_x, value=str(central),name=x_name)\n",
    "dotC +=  \"\\t}\\n\"\n",
    "   \n",
    "current_bin = ny \n",
    "lowedge_x, upedge_x, lowedge_y, upedge_y = find_edges(h,1,current_bin)\n",
    "dotC += \"\\tif( \"+y_name+\" > \"+upedge_y+\"){\\n\"\n",
    "for x in xrange(1,nx+1):\n",
    "    lowedge_x, upedge_x, lowedge_y, upedge_y = find_edges(h,x,current_bin)\n",
    "    central = h.GetBinContent(x,current_bin)\n",
    "    dotC += if_with_two_similar_and(n_tabs=2, low=lowedge_x, up=upedge_x, value=str(central),name=x_name)  \n",
    "dotC +=  \"\\t}\\n\"\n",
    "##################\n",
    "#################\n",
    "lowedge_x, upedge_x, lowedge_y, upedge_y = find_edges(h,1,1)\n",
    "central = h.GetBinContent(1,1)\n",
    "dotC += \"\\n\\tif( \"+x_name+\" <= \"+lowedge_x+\" && \"+y_name+\" <= \"+lowedge_y+\"){\\n\"\n",
    "dotC += \"\\t\\t return\\t\"+str(central)+\";\\n\\t}\"\n",
    "\n",
    "lowedge_x, upedge_x, lowedge_y, upedge_y = find_edges(h,nx,1)\n",
    "central = h.GetBinContent(nx,1)\n",
    "dotC += \"\\n\\tif( \"+x_name+\" > \"+upedge_x+\" && \"+y_name+\" <= \"+lowedge_y+\"){\\n\"\n",
    "dotC += \"\\t\\t return\\t\"+str(central)+\";\\n\\t}\"\n",
    "\n",
    "lowedge_x, upedge_x, lowedge_y, upedge_y = find_edges(h,1,ny)\n",
    "central = h.GetBinContent(1,ny)\n",
    "dotC += \"\\n\\tif( \"+x_name+\" <= \"+lowedge_x+\" && \"+y_name+\" > \"+upedge_y+\"){\\n\"\n",
    "dotC += \"\\t\\t return\\t\"+str(central)+\";\\n\\t}\"\n",
    "\n",
    "\n",
    "lowedge_x, upedge_x, lowedge_y, upedge_y = find_edges(h,nx,ny)\n",
    "central = h.GetBinContent(nx,ny)\n",
    "dotC += \"\\n\\tif( \"+x_name+\" > \"+upedge_x+\" && \"+y_name+\" > \"+upedge_y+\"){\\n\"\n",
    "dotC += \"\\t\\t return \"+str(central)+\";\\n\\t}\"\n",
    "\n",
    "##################\n",
    "\n",
    "dotC += \"\\n\\telse cout<<\\\"ERROR: UNEXPEDTED behavior in photon_SF function\\\"<<endl;\\n\"\n",
    "dotC+=\"}\""
   ]
  },
  {
   "cell_type": "code",
   "execution_count": 16,
   "metadata": {},
   "outputs": [],
   "source": [
    "def write_code(name,s):\n",
    "    code_file = file(name,\"w\")\n",
    "    code_file.write(s)\n",
    "    code_file.close()\n",
    "    \n",
    "write_code(dotH_name,dotH)\n",
    "write_code(dotC_name,dotC)"
   ]
  }
 ],
 "metadata": {
  "kernelspec": {
   "display_name": "Python 2",
   "language": "python",
   "name": "python2"
  },
  "language_info": {
   "codemirror_mode": {
    "name": "ipython",
    "version": 2
   },
   "file_extension": ".py",
   "mimetype": "text/x-python",
   "name": "python",
   "nbconvert_exporter": "python",
   "pygments_lexer": "ipython2",
   "version": "2.7.15"
  }
 },
 "nbformat": 4,
 "nbformat_minor": 2
}
